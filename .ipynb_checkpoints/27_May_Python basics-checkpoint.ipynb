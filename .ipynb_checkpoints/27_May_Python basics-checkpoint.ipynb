{
 "cells": [
  {
   "cell_type": "markdown",
   "id": "37548e10-887c-4631-82ab-05b0f702f6d6",
   "metadata": {},
   "source": [
    "TOPIC: PYTHON BASIC VARIABLES"
   ]
  },
  {
   "cell_type": "raw",
   "id": "d8f41a32-c989-486f-9fbd-4fe9875711c5",
   "metadata": {},
   "source": [
    "1. Declare two variables, `x` and `y`, and assign them integer values. Swap the\n",
    "values of these variables without using any temporary variable."
   ]
  },
  {
   "cell_type": "markdown",
   "id": "45373799-08b5-458c-8c5e-23e6ffd86dd5",
   "metadata": {},
   "source": [
    "#Method I - To solve 1st Question given below"
   ]
  },
  {
   "cell_type": "code",
   "execution_count": 2,
   "id": "5e1d4e72-5e8a-4be2-99a4-fc39ad1c98ee",
   "metadata": {},
   "outputs": [
    {
     "name": "stdout",
     "output_type": "stream",
     "text": [
      "Before Swapping: x = 25 y = 10\n",
      "After Swapping: x = 10  y = 25\n"
     ]
    }
   ],
   "source": [
    "# Step 1: Declaration and initialization of variables('x' and 'y')\n",
    "x = 25\n",
    "y = 10\n",
    "print(\"Before Swapping: x =\", x,\"y =\",y)\n",
    "\n",
    "\n",
    "# Step 2: Code to swap 'x' and 'y' (Using Arithmetic Operators)\n",
    "\n",
    "# x now becomes 35\n",
    "x = x + y\n",
    "\n",
    "# y becomes 25\n",
    "y = x - y # y = 35-10=25\n",
    "\n",
    "# x becomes 10 ()\n",
    "x = x - y # x = 35-25=10\n",
    "print(\"After Swapping: x =\", x, \" y =\", y)\n",
    "\n",
    "\n"
   ]
  },
  {
   "cell_type": "markdown",
   "id": "1e3f48a9-9b48-4f8f-b4ee-1b733b8bc1e5",
   "metadata": {},
   "source": [
    "\n",
    "Explanation:\n",
    "\n",
    "1. x = 25 & y = 10:The code declares and initializes two variables x and y with the values 25 and 10, respectively.\n",
    "2. x = x + y: Adds the values of x and y and assigns the result to x.\n",
    "   Now, x becomes 35.\n",
    "3. y = x - y: Subtracts the original value of y from the new value of x and assigns the result to y. \n",
    "   Now, y becomes 25.\n",
    "4. x = x - y: Subtracts the the new value of y, (which is 25) from original value of x (which is now 35)  and assigns the result to x.\n",
    "   Now, x becomes 10.\n",
    "5. The values of x and y are now swapped without using any temporary variable.\n",
    "\n",
    "\n",
    "\n"
   ]
  },
  {
   "cell_type": "markdown",
   "id": "156584d0-01b8-42d3-b018-28d9115836ae",
   "metadata": {},
   "source": [
    "#Method II -  To solve 1st question"
   ]
  },
  {
   "cell_type": "code",
   "execution_count": 3,
   "id": "64c1b05f-414d-4d47-a641-d1fcf1c59be0",
   "metadata": {},
   "outputs": [
    {
     "name": "stdout",
     "output_type": "stream",
     "text": [
      "Before Swapping x: 25 and y: 10\n",
      "After Swapping x: 10 and y: 25\n"
     ]
    }
   ],
   "source": [
    "# Step 1: Declaration and initialization of variables('x' and 'y')\n",
    "x=25\n",
    "y=10\n",
    "\n",
    "\n",
    "# Step 2: Code to swap 'x' and 'y' (Using Function)\n",
    "def swap_variables(x,y):\n",
    "    print(f\"Before Swapping x: {x} and y: {y}\")\n",
    "    x,y=y,x\n",
    "    print(f\"After Swapping x: {x} and y: {y}\")\n",
    "swap_variables(x,y)    \n",
    "\n"
   ]
  },
  {
   "cell_type": "markdown",
   "id": "e9843826-7be0-4c1c-be73-613e143ac5ae",
   "metadata": {},
   "source": [
    "1. x = 25 & y = 10: The code declares and initializes two variables x and y with the values 25 and 10, respectively.\n",
    "2. def swap_variables(x,y): The code defines a function called \"swap_variables\" that takes two arguments x and y.\n",
    "3. print(f\"Before Swapping x: {x} and y: {y}\") : Inside the function, the code prints the values of x and y before swapping them.f before string allows you to embed expressions inside the string using curly braces {} and have them evaluated at runtime.\n",
    "4. x,y=y,x : The code then swaps the values of x and y using the following line: x, y = y, x.\n",
    "5. print(f\"After Swapping x: {x} and y: {y}\") : The code prints the values of x and y after swapping them.\n",
    "6. swap_variables(x,y) : Finally, the code calls the swap_variables function with the x and y variables as arguments.'''"
   ]
  },
  {
   "cell_type": "raw",
   "id": "0cd2bfe8-9618-4844-991d-2b23e0ef0eea",
   "metadata": {},
   "source": [
    "2. Create a program that calculates the area of a rectangle. Take the length and\n",
    "width as inputs from the user and store them in variables. Calculate and\n",
    "display the area."
   ]
  },
  {
   "cell_type": "code",
   "execution_count": 5,
   "id": "0e2d582a-54ea-4653-9a14-f0c1711082b4",
   "metadata": {},
   "outputs": [
    {
     "name": "stdin",
     "output_type": "stream",
     "text": [
      "Enter the length of rectangle:  2\n",
      "Enter the breadth of rectangle:  4\n"
     ]
    },
    {
     "name": "stdout",
     "output_type": "stream",
     "text": [
      "Area of Rectangle is:  8.0\n"
     ]
    }
   ],
   "source": [
    "# Step 1 : Taking I/P from the user \n",
    "length = float(input(\"Enter the length of rectangle: \")) #Taking user I/p for length and coonverting into floating-point-number\n",
    "breadth = float(input(\"Enter the breadth of rectangle: \"))#Taking user I/p for breadth and coonverting into floating-point-number\n",
    "\n",
    "# Step 2: Finding the Area of Rectangle by using formula: Area = length * breadth\n",
    "area=  length * breadth\n",
    "\n",
    "# Step 3: Displaying the calculated area to the user\n",
    "print(\"Area of Rectangle is: \",area) #The calculated output i.e Area Of Rectangle\n"
   ]
  },
  {
   "cell_type": "markdown",
   "id": "a7e0fa65-7809-40cd-8a93-da7bdd728ae7",
   "metadata": {},
   "source": [
    "Explaination\n",
    "1. The code prompts the user to enter the length and breadth of the rectangle using the input() function. The user's input is then converted to a float using the float() function, which allows the program to handle decimal values.\n",
    "\n",
    "2. The code calculates the area of the rectangle by multiplying the length and breadth using the formula: Area * Breadth\n",
    "\n",
    "3. The program displays the calculated area to the user using the print() function. It prints the message \"Area of Rectangle is: \" followed by the value of the area variable."
   ]
  },
  {
   "cell_type": "raw",
   "id": "3a8425b3-4a88-45ee-80a0-fd05b33d4a25",
   "metadata": {},
   "source": [
    "3. Write a Python program that converts temperatures from Celsius to\n",
    "Fahrenheit. Take the temperature in Celsius as input, store it in a variable,\n",
    "convert it to Fahrenheit, and display the result."
   ]
  },
  {
   "cell_type": "code",
   "execution_count": 8,
   "id": "c97479f3-ce15-4d42-aa1e-f8d0c56af6c5",
   "metadata": {},
   "outputs": [
    {
     "name": "stdin",
     "output_type": "stream",
     "text": [
      "Enter the temp in celsius:  25\n"
     ]
    },
    {
     "name": "stdout",
     "output_type": "stream",
     "text": [
      "25.0 Celsius equals to 77.00 Fahrenheit\n"
     ]
    }
   ],
   "source": [
    "# Step 1 : Taking temperature in Celsius from the user\n",
    "temp_celsius=float(input(\"Enter the temp in celsius: \"))\n",
    "\n",
    "#Step 2 : Convertion of temperatures i.e Celsius to Fahrenheit using the formula: (C * 9/5) + 32\n",
    "Fahrenheit=((temp_celsius * 9/5) + 32) \n",
    "\n",
    "#Step 3 : Displaying The Calculated(Converted) temperature in Fahrenheit\n",
    "print(f\"{temp_celsius} Celsius equals to{Fahrenheit: .2f} Fahrenheit\")\n",
    "\t"
   ]
  },
  {
   "cell_type": "markdown",
   "id": "94b881af-3b99-4b58-8a53-3e04434e41f5",
   "metadata": {},
   "source": [
    "1. The program asks the user to input the temperature in Celsius. It converts the user input from a string to a floating-point number using the float() function.\n",
    "\n",
    "2. The program converts the temperature from Celsius to Fahrenheit using the formula: Fahrenheit = (Celsius × 9/5) + 32. It stores the converted temperature in a variable called Fahrenheit.\n",
    "\n",
    "3. The program displays the converted temperature to the user using the print() function. It prints the message that shows the original temperature in Celsius and its equivalent temperature in Fahrenheit. The converted temperature is displayed up to two decimal places using the format specification : .2f\n"
   ]
  },
  {
   "cell_type": "markdown",
   "id": "8de2b60a-b356-4390-9b49-75302d53eb0c",
   "metadata": {},
   "source": [
    " TOPIC : STRING BASED QUESTIONS"
   ]
  },
  {
   "cell_type": "raw",
   "id": "36873012-a77b-45ff-9159-9110824e69ac",
   "metadata": {},
   "source": [
    "1. Write a Python program that takes a string as input and prints the length of\n",
    "the string."
   ]
  },
  {
   "cell_type": "code",
   "execution_count": null,
   "id": "0808c2a1-77c8-4ddf-a414-e4bd4b220e75",
   "metadata": {},
   "outputs": [],
   "source": [
    "# Step 1 : Taking I/P from the user \n",
    "input_str=input(\"Enter any string: \")\n",
    "\n",
    "# Step 2 : Calculating the length of I/p String using Using predefined len() function\n",
    "str_length=len(input_str)\n",
    "\n",
    "# Step 3 : Printing The Length Of Entered String\n",
    "print(\"The Length of input String is: \",str_length)"
   ]
  },
  {
   "cell_type": "markdown",
   "id": "abb72911-60ac-4509-a4f3-b2d1f050ac44",
   "metadata": {},
   "source": [
    "1. input_str=input(\"Enter any string: \") : The program asks the user to input any string. It stores the user input in a variable called input_str.\n",
    "\n",
    "2. str_length=len(input_str) : The program calculates the length of the input string using the predefined len() function. The len() function returns the number of characters in the string. It stores the length of the string in a variable called str_length.\n",
    "\n",
    "3. print(\"The Length of input String is: \",str_length) : The program displays the length of the input string to the user using the print() function. It prints the message \"The Length of input String is: \" followed by the value of the str_length variable."
   ]
  },
  {
   "cell_type": "raw",
   "id": "9a419d0e-2fae-4151-bea9-ba5194d97cc2",
   "metadata": {},
   "source": [
    "2. Create a program that takes a sentence from the user and counts the number of vowels (a, e, i, o, u) in the string."
   ]
  },
  {
   "cell_type": "code",
   "execution_count": 9,
   "id": "dbdbb78a-e978-47e3-9a20-0fce6dd36f65",
   "metadata": {},
   "outputs": [
    {
     "name": "stdin",
     "output_type": "stream",
     "text": [
      "Enter a sentence:  good morning\n"
     ]
    },
    {
     "name": "stdout",
     "output_type": "stream",
     "text": [
      "The number of vowels in the sentence is:  4\n"
     ]
    }
   ],
   "source": [
    "# Step 1: Taking input from the user\n",
    "sentence = input(\"Enter a sentence: \")\n",
    "\n",
    "# Step 2: Converting the sentence to lowercase to handle both uppercase and lowercase vowels \n",
    "sentence = sentence.lower()\n",
    "\n",
    "# Step 3: Initializing the vowel count to 0\n",
    "vowel_count = 0\n",
    "\n",
    "# Step 4: Looping through each character in the sentence\n",
    "for char in sentence:\n",
    "\n",
    "    # Step 5: Checking if the character is a vowel\n",
    "    if char in 'aeiou':\n",
    "\n",
    "        # Step 6: Incrementing the vowel count if the character is a vowel\n",
    "        vowel_count += 1\n",
    "\n",
    "# Step 7: Displaying the vowel count to the user\n",
    "print(\"The number of vowels in the sentence is: \", vowel_count)\n"
   ]
  },
  {
   "cell_type": "markdown",
   "id": "21c00f16-eec8-4eec-b050-75803b5d2a1c",
   "metadata": {},
   "source": [
    "Step1: The program asks the user to input a sentence. It stores the user input in a variable called sentence.\n",
    "\n",
    "Step 2: The program converts the sentence to lowercase using the lower() method. This is done to ensure that the program counts both uppercase and lowercase vowels as the same.\n",
    "\n",
    "Step 3: The program initializes the vowel count to 0 using the vowel_count variable.\n",
    "\n",
    "Step 4: The program loops through each character in the sentence using a for loop.\n",
    "\n",
    "Step 5: The program checks if the character is a vowel by checking if it is in the string 'aeiou'. If the character is a vowel, the if condition evaluates to True.\n",
    "\n",
    "Step 6: If the character is a vowel, the program increments the vowel count by 1 using the vowel_count variable.\n",
    "\n",
    "Step 7: After the loop finishes, the program displays the vowel count to the user using the print() function."
   ]
  },
  {
   "cell_type": "raw",
   "id": "1b6aa607-1ac6-4636-a9f4-2c6c288fa205",
   "metadata": {},
   "source": [
    "3. Given a string, reverse the order of characters using string slicing and print\n",
    "the reversed string.\n"
   ]
  },
  {
   "cell_type": "code",
   "execution_count": 20,
   "id": "4e7e6518-4ddd-4f21-aead-12c68aa30958",
   "metadata": {},
   "outputs": [
    {
     "name": "stdin",
     "output_type": "stream",
     "text": [
      "Enter any string:  tushar\n"
     ]
    },
    {
     "name": "stdout",
     "output_type": "stream",
     "text": [
      "REVERSE STRING:  rahsut\n"
     ]
    }
   ],
   "source": [
    "# Step 1 : Taking I/P from the user \n",
    "input_str = input(\"Enter any string: \")\n",
    "\n",
    "# Step 2 : Using string slicing we are reversing the string\n",
    "# Syntax : [initiation : termination :Step/Jump]\n",
    "# Here, we start printing from the end of the string,moving backwards wit step -1 and stops at the beginning \n",
    "reverse_str = input_str[::-1]\n",
    "\n",
    "# Step 3 : Printing The Reverse Of Entered String\n",
    "print(\"REVERSE STRING: \",reverse_str)"
   ]
  },
  {
   "cell_type": "markdown",
   "id": "a1f6bf3c-a3b7-41c1-8446-e1ff6414e838",
   "metadata": {},
   "source": [
    "Step 1: The program asks the user to input a string. It stores the user input in a variable called input_str.\n",
    "\n",
    "Step 2: The program reverses the string using slicing. We reverse a string by using a slice with no start or stop index and a step value of -1. The slice [::-1] means \"start at the end of the string and end at position 0, move with the step -1\" which effectively reverses the string. The program stores the reversed string in a variable called reversed_str.\n",
    "\n",
    "Step 3: The program displays the reversed string to the user using the print() function."
   ]
  },
  {
   "cell_type": "raw",
   "id": "d5f39048-9e23-4e0b-ba07-49dbc0323950",
   "metadata": {},
   "source": [
    "4. Write a program that takes a string as input and checks if it is a palindrome\n",
    "(reads the same forwards and backwards)."
   ]
  },
  {
   "cell_type": "code",
   "execution_count": null,
   "id": "09f65c52-2a00-47c4-992c-2ab490ae411c",
   "metadata": {},
   "outputs": [
    {
     "name": "stdin",
     "output_type": "stream",
     "text": [
      "Enter a string:  123race@car321\n"
     ]
    },
    {
     "name": "stdout",
     "output_type": "stream",
     "text": [
      "The input string is a palindrome.\n"
     ]
    }
   ],
   "source": [
    "# Step 1: Get input from the user\n",
    "input_string = input(\"Enter a string: \")\n",
    "\n",
    "# Step 2: Remove spaces and convert the input string to lowercase\n",
    "cleaned_string = input_string.replace(\" \", \"\").lower()\n",
    "\n",
    "# Step 3: Removing any non-alphanumeric characters from the string\n",
    "cleaned_string = ''.join(char for char in cleaned_string if char.isalnum())\n",
    "\n",
    "\n",
    "# Step 4: Reverse the cleaned string using slicing\n",
    "reversed_string = cleaned_string[::-1]\n",
    "\n",
    "# Step 5: Compare the cleaned string with its reverse to check for palindrome\n",
    "if cleaned_string == reversed_string:\n",
    "    print(\"The input string is a palindrome.\")\n",
    "else:\n",
    "    print(\"The input string is not a palindrome.\")"
   ]
  },
  {
   "cell_type": "markdown",
   "id": "2bb4e4d1-a94b-4e72-a7d3-da76a4889e82",
   "metadata": {},
   "source": [
    "Step1 :  prompts the user to enter a string using the input function. The entered string is stored in the variable input_string.\n",
    "\n",
    "Step2 : cleans the input string in two ways:\n",
    "    - replace(\" \", \"\") : removes any spaces in the string. This is because spaces don't affect whether a string is a palindrome (e.g., \"Race car\" is the same as \"Racecar\").\n",
    "    - lower() : converts all characters to lowercase. Palindromes are case-insensitive (e.g., \"Racecar\" is the same as \"RACECAR\"). The result is stored in the variable cleaned_string.\n",
    "    \n",
    "Step 3 : refines the cleaning process:\n",
    "    - char.isalnum() : checks if each character is alphanumeric (a letter or a number).\n",
    "    - The list comprehension [char for char in cleaned_string if char.isalnum()] creates a new list containing only the alphanumeric characters from cleaned_string.\n",
    "    - ''.join() :joins the characters in the list back into a string, effectively removing any non-alphanumeric characters. This step ensures punctuation and special symbols don't interfere with the palindrome check. The result again goes into cleaned_string.\n",
    "    \n",
    " Step 4 : creates a reversed copy of the cleaned string. String slicing achieves this:\n",
    "    - [::-1] is a special slice that takes every element in the string but with a step of -1, effectively reversing the order. The result is stored in the variable reversed_string.\n",
    "    \n",
    "Step 5 : Compare cleaned_string and reversed_string and checks whether they are equal:\n",
    "If yes, print it's a palindrome \n",
    "If no, print it's not a palindrome"
   ]
  },
  {
   "cell_type": "raw",
   "id": "57591750-ad95-42a4-bd18-65bcd78a7b25",
   "metadata": {},
   "source": [
    "5. Create a program that takes a string as input and removes all the spaces from\n",
    "it. Print the modified string without spaces."
   ]
  },
  {
   "cell_type": "code",
   "execution_count": 16,
   "id": "611b394d-39ce-414e-8091-ed6d0c2e00f6",
   "metadata": {},
   "outputs": [
    {
     "name": "stdin",
     "output_type": "stream",
     "text": [
      "Enter a string:  sdjjsf jkdjhsld sddsjfhd\n"
     ]
    },
    {
     "name": "stdout",
     "output_type": "stream",
     "text": [
      "Modified string: sdjjsfjkdjhsldsddsjfhd\n"
     ]
    }
   ],
   "source": [
    "# Get user input\n",
    "input_string = input(\"Enter a string: \")\n",
    "\n",
    "# Remove spaces from the string\n",
    "modified_string = input_string.replace(\" \", \"\")\n",
    "\n",
    "# Print the modified string\n",
    "print(\"Modified string:\", modified_string)"
   ]
  },
  {
   "cell_type": "markdown",
   "id": "fc1366d7-2031-4648-9eca-bf260ca735d4",
   "metadata": {},
   "source": [
    "Step 1: The program asks the user to input a string. It stores the user input in a variable called input_str.\n",
    "\n",
    "Step 2: replace() is a string method that replaces all occurrences of the specified substring (in this case, a space) with the second argument (an empty string). The result is stored in the modified_string variable.\n",
    "\n",
    "\n",
    "Step 3 : The program displays the Modified string to the user using the print() function."
   ]
  }
 ],
 "metadata": {
  "kernelspec": {
   "display_name": "Python 3 (ipykernel)",
   "language": "python",
   "name": "python3"
  },
  "language_info": {
   "codemirror_mode": {
    "name": "ipython",
    "version": 3
   },
   "file_extension": ".py",
   "mimetype": "text/x-python",
   "name": "python",
   "nbconvert_exporter": "python",
   "pygments_lexer": "ipython3",
   "version": "3.10.8"
  }
 },
 "nbformat": 4,
 "nbformat_minor": 5
}
